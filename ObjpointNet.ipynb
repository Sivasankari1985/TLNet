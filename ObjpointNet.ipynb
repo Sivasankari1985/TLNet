{
  "nbformat": 4,
  "nbformat_minor": 0,
  "metadata": {
    "colab": {
      "provenance": [],
      "authorship_tag": "ABX9TyNV0y0ywkBJLaAkxuDvSwQP",
      "include_colab_link": true
    },
    "kernelspec": {
      "name": "python3",
      "display_name": "Python 3"
    },
    "language_info": {
      "name": "python"
    },
    "accelerator": "TPU"
  },
  "cells": [
    {
      "cell_type": "markdown",
      "metadata": {
        "id": "view-in-github",
        "colab_type": "text"
      },
      "source": [
        "<a href=\"https://colab.research.google.com/github/Sivasankari1985/TLNet/blob/master/ObjpointNet.ipynb\" target=\"_parent\"><img src=\"https://colab.research.google.com/assets/colab-badge.svg\" alt=\"Open In Colab\"/></a>"
      ]
    },
    {
      "cell_type": "code",
      "source": [
        "from google.colab import drive\n",
        "import torch\n",
        "import os\n",
        "import matplotlib.pyplot as plt\n",
        "import torch.nn as nn\n",
        "import torch.nn.functional as F\n",
        "from torch.utils.data import Dataset, DataLoader\n",
        "\n"
      ],
      "metadata": {
        "id": "gCZ301hYmZTI"
      },
      "execution_count": 1,
      "outputs": []
    },
    {
      "cell_type": "code",
      "source": [
        "class SimplePointNet(nn.Module):\n",
        "    def __init__(self, num_classes):\n",
        "        super(SimplePointNet, self).__init__()\n",
        "        self.conv1 = nn.Conv1d(3, 64, 1)  # Input channels: 3, Output channels: 64\n",
        "        self.conv2 = nn.Conv1d(64, 128, 1)  # Input channels: 64, Output channels: 128\n",
        "        self.fc1 = nn.Linear(128, 256)\n",
        "        self.fc2 = nn.Linear(256, num_classes)\n",
        "\n",
        "    def forward(self, x):\n",
        "        x = F.relu(self.conv1(x))\n",
        "        x = F.relu(self.conv2(x))\n",
        "        x = F.relu(self.fc1(x.mean(dim=-1)))  # Global max pooling\n",
        "        x = self.fc2(x)\n",
        "        return F.log_softmax(x, dim=-1)\n",
        "\n",
        "\n"
      ],
      "metadata": {
        "id": "LB2IDIKq989w"
      },
      "execution_count": 2,
      "outputs": []
    },
    {
      "cell_type": "code",
      "source": [
        "# Define your dataset class\n",
        "class MyDataset(Dataset):\n",
        "    def __init__(self, data_paths, labels):\n",
        "        self.data_paths = data_paths\n",
        "        self.labels = labels\n",
        "\n",
        "    def __len__(self):\n",
        "        return len(self.data_paths)\n",
        "\n",
        "    def __getitem__(self, index):\n",
        "          V = []\n",
        "          directory = os.listdir(self.data_paths)\n",
        "          for filename in directory:\n",
        "               if filename.endswith('.obj'):\n",
        "                with open(os.path.join(self.data_paths,filename), 'r') as fid:\n",
        "                  lines = fid.readlines()\n",
        "               for line in lines:\n",
        "                  if line.startswith('v '):\n",
        "                      vertex = list(map(float, line.strip().split()[1:4]))\n",
        "                      V.append(vertex)\n",
        "\n",
        "          return V\n",
        "\n"
      ],
      "metadata": {
        "id": "11N8s1ae-DKv"
      },
      "execution_count": 3,
      "outputs": []
    },
    {
      "cell_type": "code",
      "source": [
        "# Set up paths and labels for training and validation datasets\n",
        "drive.mount('/content/gdrive/')\n",
        "directory = '/content/gdrive/MyDrive/3DPotteryDataset_v_1/3D Models/All Models/'\n",
        "# List all .obj files in the directory\n",
        "obj_files = os.listdir(directory)\n",
        "# Visualize each .obj file using SimplePointNet\n",
        "\n",
        "#obj_file_path = os.path.join(directory, filename)\n",
        "train_data_paths = directory  # List of file paths for training data\n",
        "train_labels = ['Abstract','Aryballos','Bowl']\n",
        "\n",
        "# List of labels for training data\n",
        "val_data_paths = directory  # List of file paths for validation data\n",
        "val_labels = ['Abstract','Aryballos','Bowl'] # List of labels for validation data\n",
        "\n"
      ],
      "metadata": {
        "colab": {
          "base_uri": "https://localhost:8080/"
        },
        "id": "O3Vtjyf7-IBP",
        "outputId": "1e20ed54-321e-488a-dcf8-402874a829a0"
      },
      "execution_count": 4,
      "outputs": [
        {
          "output_type": "stream",
          "name": "stdout",
          "text": [
            "Mounted at /content/gdrive/\n"
          ]
        }
      ]
    },
    {
      "cell_type": "code",
      "source": [
        "# Create DataLoader for training and validation datasets\n",
        "train_dataset = MyDataset(train_data_paths, train_labels)\n",
        "print(train_dataset)\n",
        "train_loader = DataLoader(train_dataset, batch_size=5, shuffle=True)\n",
        "print('train dataset')\n",
        "print(train_dataset)\n",
        "val_dataset = MyDataset(val_data_paths, val_labels)\n",
        "val_loader = DataLoader(val_dataset, batch_size=5, shuffle=False)\n",
        "\n"
      ],
      "metadata": {
        "colab": {
          "base_uri": "https://localhost:8080/"
        },
        "id": "7AWM7xrF-Oat",
        "outputId": "aa459124-4200-40de-ae36-bdc6b447ade2"
      },
      "execution_count": 5,
      "outputs": [
        {
          "output_type": "stream",
          "name": "stdout",
          "text": [
            "<__main__.MyDataset object at 0x7a0b566d06a0>\n",
            "train dataset\n",
            "<__main__.MyDataset object at 0x7a0b566d06a0>\n"
          ]
        }
      ]
    },
    {
      "cell_type": "code",
      "source": [
        "# Instantiate SimplePointNet model\n",
        "num_classes = 5  # Adjust as needed\n",
        "model = SimplePointNet(num_classes)\n",
        "\n",
        "# Define optimizer and loss function\n",
        "optimizer = torch.optim.Adam(model.parameters(), lr=0.001)\n",
        "criterion = nn.CrossEntropyLoss()\n",
        "\n"
      ],
      "metadata": {
        "id": "WM4Iw6Rt-S2_"
      },
      "execution_count": 6,
      "outputs": []
    },
    {
      "cell_type": "code",
      "source": [
        "# Training loop\n",
        "num_epochs = 10\n",
        "train_losses = []\n",
        "val_accuracies = []\n",
        "\n",
        "for epoch in range(10):\n",
        "    model.train()\n",
        "    total_loss = 0.0\n",
        "    print(train_loader)\n",
        "    for data, labels in train_loader:\n",
        "        optimizer.zero_grad()\n",
        "        outputs = model(data)\n",
        "        loss = criterion(outputs, labels)\n",
        "        loss.backward()\n",
        "        optimizer.step()\n",
        "        total_loss += loss.item()\n",
        "\n",
        "    train_loss = total_loss / len(train_loader)\n",
        "    train_losses.append(train_loss)\n",
        "\n",
        "    # Validation\n",
        "    model.eval()\n",
        "    correct = 0\n",
        "    total = 0\n",
        "\n",
        "    with torch.no_grad():\n",
        "        for data, labels in val_loader:\n",
        "            outputs = model(data)\n",
        "            _, predicted = torch.max(outputs, 1)\n",
        "            total += labels.size(0)\n",
        "            correct += (predicted == labels).sum().item()\n",
        "\n",
        "            val_accuracy = correct / total\n",
        "            val_accuracies.append(val_accuracy)\n",
        "\n",
        "            print(f'Epoch [{epoch+1}/{num_epochs}], '\n",
        "                  f'Training Loss: {train_loss:.4f}, '\n",
        "                  f'Validation Accuracy: {val_accuracy:.4f}')\n",
        "\n"
      ],
      "metadata": {
        "colab": {
          "base_uri": "https://localhost:8080/"
        },
        "id": "E_WG0ynG-Z6G",
        "outputId": "c989d214-a661-489c-91c1-1037b55adefd"
      },
      "execution_count": null,
      "outputs": [
        {
          "output_type": "stream",
          "name": "stdout",
          "text": [
            "<torch.utils.data.dataloader.DataLoader object at 0x7a0b566d0e80>\n"
          ]
        }
      ]
    },
    {
      "cell_type": "code",
      "source": [
        "  # Visualize the validation accuracy graph\n",
        "            plt.plot(val_accuracies)\n",
        "            plt.title('Validation Accuracy')\n",
        "            plt.xlabel('Epoch')\n",
        "            plt.ylabel('Accuracy')\n",
        "            plt.show()"
      ],
      "metadata": {
        "id": "JfYlxser-g0u"
      },
      "execution_count": null,
      "outputs": []
    }
  ]
}